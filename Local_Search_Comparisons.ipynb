{
  "cells": [
    {
      "cell_type": "markdown",
      "metadata": {
        "id": "KQdBrhYwmXSz"
      },
      "source": [
        "# A comparison of local search approaches to the 8-queen problem\n",
        "---\n",
        "Here we will analyze, a solution to 8-queen problem by greedy descent, greedy descent with the help of sideway moves and finally Simulated annealing and compare their completeness.\n"
      ]
    },
    {
      "cell_type": "markdown",
      "metadata": {
        "id": "_Kg2hRYo0Hj8"
      },
      "source": [
        "## Problem Description\n",
        "Given a standard 8x8 chessboard, Place 8 queens on a chess board so that no queen attacks another.. So essentially,\n",
        "* no adjacent pieces in the same row\n",
        "* pieces in the same diagonals\n",
        "* no adjacent pieces in the same column\n"
      ]
    },
    {
      "cell_type": "code",
      "execution_count": 1,
      "metadata": {
        "id": "s1Hf_Bet05RH"
      },
      "outputs": [],
      "source": [
        "#Importing libraries\n",
        "import math, random"
      ]
    },
    {
      "cell_type": "markdown",
      "metadata": {
        "id": "6RZ4BLCd1KJt"
      },
      "source": [
        "## Class Documentation: Board\n",
        "#### Description\n",
        "\n",
        "The Board class represents a chessboard with queens placed on it. It provides functionality to initialize the board, create duplicates, and calculate the number of attacks between queens.\n",
        "\n",
        "#### Constructor\n",
        "`__init__(self, size: int)`\n",
        "\n",
        "- **Parameters**: size (int): The size of the chessboard, indicating the number of rows and columns.\n",
        "- **Description**: Initializes a new instance of the Board class with the specified size. Places queens randomly on the board during initialization.\n",
        "\n",
        "#### Methods\n",
        "`duplicate(self) -> Board`\n",
        "\n",
        "- **Returns**: A new instance of the Board class, which is an identical copy of the current board.\n",
        "- **Description**: Creates a duplicate board with the same size and queen placements.\n",
        "\n",
        "`number_of_attacks(self) -> int`\n",
        "\n",
        "- **Returns**: The total number of queen attacks on the current board.\n",
        "- **Description**: Calculates and returns the number of attacks between queens on the board. Attacks include queens in the same row, column, or diagonals."
      ]
    },
    {
      "cell_type": "code",
      "execution_count": 2,
      "metadata": {
        "id": "1P_YpeSb13Wj"
      },
      "outputs": [],
      "source": [
        "class Board:\n",
        "    def __init__(self, size):\n",
        "        self.size = size\n",
        "        self.queens = []\n",
        "        for i in range(self.size):\n",
        "            self.queens.append(random.randint(0, self.size - 1))\n",
        "\n",
        "    def duplicate(self):\n",
        "        duplicate = Board(self.size)\n",
        "        duplicate.queens = self.queens.copy()\n",
        "        return duplicate\n",
        "\n",
        "    def number_of_attacks(self) -> int:\n",
        "        attacks = 0\n",
        "        for queen in range(self.size-1):\n",
        "            for next_queen in range(queen + 1,self.size):\n",
        "                if(self.queens[queen] == self.queens[next_queen]): attacks += 1\n",
        "                queen_diff = abs(queen - next_queen)\n",
        "                if(self.queens[next_queen] == self.queens[queen] - queen_diff or self.queens[next_queen] == self.queens[queen] + queen_diff): attacks += 1\n",
        "        return attacks"
      ]
    },
    {
      "cell_type": "markdown",
      "metadata": {
        "id": "oxWuNYcB3-fp"
      },
      "source": [
        "## Greedy Descent(aka Hill climbing Search)\n",
        "Number of attacks is used as the heuristic to determine the best neighbour. If the algorithm can descends to 0 attacks, it is considered a success whereas if the neighbour is more inefficient than current positions, then the search is abandoned as False. Greedy descent search suffers from shoulders and plateaus which cause it to be stuck in local optimas\n",
        "\n",
        "Approach inspired from my professor Ajay Anand's class\n"
      ]
    },
    {
      "cell_type": "code",
      "execution_count": 3,
      "metadata": {
        "id": "nDX79CQg6A2Z"
      },
      "outputs": [],
      "source": [
        "def best_neighbour(board: Board, value: int):\n",
        "    bestVal = value\n",
        "    bestPos = [0, board.queens[0]]\n",
        "    restore_to_original = board.queens #this is for purely readability purposes and is not efficient\n",
        "    newBoard = board.duplicate()\n",
        "    for columns in range(newBoard.size):\n",
        "        for rows in range(newBoard.size):\n",
        "            newBoard.queens[columns] = rows\n",
        "            newVal = newBoard.number_of_attacks()\n",
        "            if newVal < bestVal:\n",
        "                bestVal = newVal\n",
        "                bestPos[0] = columns; bestPos[1] = rows\n",
        "            newBoard.queens = list(restore_to_original)\n",
        "    newBoard.queens[bestPos[0]] = bestPos[1]\n",
        "    return newBoard\n",
        "\n",
        "def greedy_descent(board: Board):\n",
        "    current = board.duplicate()\n",
        "    currentVal = current.number_of_attacks()\n",
        "    while True:\n",
        "        neighbour = best_neighbour(current, currentVal)\n",
        "        neighbourVal = neighbour.number_of_attacks()\n",
        "        if neighbourVal == 0: return True\n",
        "        if neighbourVal >= currentVal: return False\n",
        "        current = neighbour\n",
        "        currentVal = neighbourVal"
      ]
    },
    {
      "cell_type": "markdown",
      "metadata": {
        "id": "86Z3GMQp6W2J"
      },
      "source": [
        "### Greedy Descent with Sideway Moves\n",
        "The problem of shoulders can be partially alleviated by introducing sideway moves which allow the algorithm to continue over moves of similar efficiency as the current position for a limited number of moves in hopes of finding a more efficient solution"
      ]
    },
    {
      "cell_type": "code",
      "execution_count": 4,
      "metadata": {
        "id": "Wfke0Y2q7UEP"
      },
      "outputs": [],
      "source": [
        "def best_neighbour_sm(board: Board, value: int, sideways_limit: int):\n",
        "    bestVal = value\n",
        "    bestPos = [0, board.queens[0]]\n",
        "    restore_to_original = board.queens #this is for purely readability purposes and is not efficient\n",
        "    newBoard = board.duplicate()\n",
        "    sideways_moves = 0\n",
        "    for columns in range(newBoard.size):\n",
        "        for rows in range(newBoard.size):\n",
        "            newBoard.queens[columns] = rows\n",
        "            newVal = newBoard.number_of_attacks()\n",
        "            if newVal < bestVal:\n",
        "                bestVal = newVal\n",
        "                bestPos[0] = columns; bestPos[1] = rows\n",
        "                sideways_moves = 0\n",
        "            elif newVal == bestVal and sideways_moves < sideways_limit:\n",
        "                sideways_moves += 1\n",
        "                if random.random() < 0.5:\n",
        "                    bestPos[0] = columns; bestPos[1] = rows\n",
        "            newBoard.queens = list(restore_to_original)\n",
        "    newBoard.queens[bestPos[0]] = bestPos[1]\n",
        "    return newBoard\n",
        "\n",
        "\n",
        "def greedy_descent_using_sideway_moves(board: Board):\n",
        "    current = board.duplicate()\n",
        "    currentVal = current.number_of_attacks()\n",
        "    while True:\n",
        "        neighbour = best_neighbour_sm(current, currentVal, 10)\n",
        "        neighbourVal = neighbour.number_of_attacks()\n",
        "        if neighbourVal == 0: return True\n",
        "        if neighbourVal >= currentVal: return False\n",
        "        current = neighbour\n",
        "        currentVal = neighbourVal\n"
      ]
    },
    {
      "cell_type": "markdown",
      "metadata": {
        "id": "BnX-7z0m7dTo"
      },
      "source": [
        "## Simulated Annealing\n",
        "An innovative and efficient solution by Kirkpatrick et al. It follows the analogy of metallurgical annealing, allowing for greater randomness in higher temperatures while slowly cooling down to an optima in lower temperatures. This allows the algorithm to take to uphill values which otherwise would have been rejected.\n",
        "Solution inspired from Ajay Anand and Russel-Norvig book"
      ]
    },
    {
      "cell_type": "code",
      "execution_count": 5,
      "metadata": {
        "id": "5zEvcbg78fO4"
      },
      "outputs": [],
      "source": [
        "def simulated_annealing(board: Board):\n",
        "    current = board.duplicate()\n",
        "    current_attacked = current.number_of_attacks()\n",
        "    temperature = 1.0\n",
        "    while temperature > 0:\n",
        "        new_board = random_neighbour(current)\n",
        "        new_board_attacked = new_board.number_of_attacks()\n",
        "        energy_diff = new_board_attacked - current_attacked\n",
        "        if energy_diff < 0 or random.random() < math.exp(-energy_diff/ temperature):\n",
        "            current = new_board\n",
        "            current_attacked = new_board_attacked\n",
        "            #print(f\"{current.queens} at {current_attacked} attacks in {temperature}\\n\")\n",
        "            if current_attacked == 0: return True\n",
        "        temperature = round(temperature*0.99, 3)\n",
        "    return False\n",
        "\n",
        "\n",
        "def random_neighbour(board: Board):\n",
        "    new_board = board.duplicate()\n",
        "    i = random.randint(0, board.size-1)\n",
        "    j = random.randint(0, board.size-1)\n",
        "    new_board.queens[i] = j\n",
        "    return new_board"
      ]
    },
    {
      "cell_type": "markdown",
      "metadata": {
        "id": "c3JfNvCn8sDK"
      },
      "source": [
        "# Tests"
      ]
    },
    {
      "cell_type": "markdown",
      "metadata": {},
      "source": [
        "The algorithms are run a number of times and the percentage by which they are successful is recorded. Due to compute restrictions, I couldn't scale it up much"
      ]
    },
    {
      "cell_type": "code",
      "execution_count": 6,
      "metadata": {
        "colab": {
          "base_uri": "https://localhost:8080/",
          "height": 374
        },
        "id": "spu0dvfx86Gh",
        "outputId": "33189cf4-f13f-420c-8ee9-867451f46394"
      },
      "outputs": [
        {
          "name": "stdout",
          "output_type": "stream",
          "text": [
            "Simulated Annealing Success Percentage: 100.0%\n",
            "Greedy Descent Success Percentage: 0.0%\n",
            "Greedy Descent w/ Sideway Moves Success Percentage: 20.0%\n"
          ]
        }
      ],
      "source": [
        "def main():\n",
        "    total_attempts = 10\n",
        "    sa = 0\n",
        "    gd = 0\n",
        "    gdsm = 0\n",
        "\n",
        "    for _ in range(total_attempts):\n",
        "        board = Board(8)\n",
        "        if simulated_annealing(board):\n",
        "            sa += 1\n",
        "\n",
        "        if greedy_descent(board):\n",
        "            gd += 1\n",
        "\n",
        "        if greedy_descent_using_sideway_moves(board):\n",
        "          gdsm += 1\n",
        "\n",
        "    sa_percent = (sa / total_attempts) * 100\n",
        "    gd_percent = (gd / total_attempts) * 100\n",
        "    gdsm_percent = (gdsm / total_attempts) * 100\n",
        "\n",
        "    print(f\"Simulated Annealing Success Percentage: {sa_percent}%\")\n",
        "    print(f\"Greedy Descent Success Percentage: {gd_percent}%\")\n",
        "    print(f\"Greedy Descent w/ Sideway Moves Success Percentage: {gdsm_percent}%\")\n",
        "\n",
        "if __name__ == \"__main__\":\n",
        "    main()"
      ]
    },
    {
      "cell_type": "markdown",
      "metadata": {},
      "source": [
        "# Conclusion\n",
        "Simulated annealing performs excellently and is complete. Greedy descent is incomplete, while Sideway Moves do introduce some marginal improvements, it is incomplete as well."
      ]
    }
  ],
  "metadata": {
    "colab": {
      "provenance": []
    },
    "kernelspec": {
      "display_name": "Python 3",
      "name": "python3"
    },
    "language_info": {
      "codemirror_mode": {
        "name": "ipython",
        "version": 3
      },
      "file_extension": ".py",
      "mimetype": "text/x-python",
      "name": "python",
      "nbconvert_exporter": "python",
      "pygments_lexer": "ipython3",
      "version": "3.11.6"
    }
  },
  "nbformat": 4,
  "nbformat_minor": 0
}
